{
 "cells": [
  {
   "cell_type": "markdown",
   "metadata": {},
   "source": [
    "# Geo plotting in Python with Folium library"
   ]
  },
  {
   "cell_type": "markdown",
   "metadata": {},
   "source": [
    "This is a short overview of a **folium** library\n",
    "\n",
    "Folium builds on the data wrangling strengths of the Python ecosystem and the mapping strengths of the Leaflet.js library. Manipulate your data in Python, then visualize it in on a Leaflet map via Folium.\n",
    "\n",
    "Folium makes it easy to visualize data that’s been manipulated in Python on an interactive Leaflet map. It enables both the binding of data to a map for choropleth visualizations as well as passing Vincent/Vega visualizations as markers on the map."
   ]
  },
  {
   "cell_type": "code",
   "execution_count": null,
   "metadata": {
    "collapsed": false
   },
   "outputs": [],
   "source": [
    "# Loading neccessary libraries\n",
    "import folium\n",
    "import branca\n",
    "# You can install branca with pip, should work on all platforms\n",
    "import pandas as pd\n",
    "\n",
    "# Loading datasets will be using\n",
    "crimedata = pd.read_csv('input/SFPD_Incidents_-_Previous_Year__2015_.csv')\n",
    "volcanoes = pd.read_csv(\"input/Volcanoes_USA.txt\")\n",
    "state_data = pd.read_csv(\"input/US_Unemployment_Oct2012.csv\")"
   ]
  },
  {
   "cell_type": "markdown",
   "metadata": {},
   "source": [
    "**Folium** is for drawing interactive maps thanks to the JavaScript engine sitting behind the scenes\n",
    "\n",
    "So it is really something different to what we saw in **Basemap**.\n",
    "\n",
    "**Folium** has a large amount of documentation (Note! You will have to build documents on your machine in order to be able to read them).\n",
    "\n",
    "Below I will show you some basic classes and methods."
   ]
  },
  {
   "cell_type": "code",
   "execution_count": null,
   "metadata": {
    "collapsed": false
   },
   "outputs": [],
   "source": [
    "# Simple map centered around particular coordinates\n",
    "# Map is a main classs here which basically draws the map\n",
    "map_osm = folium.Map(location=[40., 15.], zoom_start=6)\n",
    "# By default folium saves the map to html file. In order to have it displayed in notebook just call the instance of a map\n",
    "map_osm"
   ]
  },
  {
   "cell_type": "code",
   "execution_count": null,
   "metadata": {
    "collapsed": false
   },
   "outputs": [],
   "source": [
    "# One of the key features in folium is marker\n",
    "# It is basically a point on the specific location of a map\n",
    "# We create map instance\n",
    "m = folium.Map()\n",
    "# We create a Marker with defined location and then we add this Marker to the map\n",
    "folium.Marker(location=[40., 15.]).add_to(m)\n",
    "m"
   ]
  },
  {
   "cell_type": "code",
   "execution_count": null,
   "metadata": {
    "collapsed": false
   },
   "outputs": [],
   "source": [
    "# Let's try something more complex\n",
    "# As we will work with data about crimes in San Francisco, we need to define coordinates of this city\n",
    "SF_COORDINATES = (37.76, -122.45)\n",
    "\n",
    "# for speed purposes we will just use 1000 samples from dataset\n",
    "MAX_RECORDS = 1000\n",
    "\n",
    "# create empty map zoomed in on San Francisco\n",
    "map = folium.Map(location=SF_COORDINATES, zoom_start=12)\n",
    "\n",
    "# add a marker for every record in the filtered data, use a clustered view\n",
    "fg=folium.FeatureGroup(name=\"SF Crime Locations\")\n",
    "for each in crimedata[0:MAX_RECORDS].iterrows():\n",
    "    fg.add_child(folium.Marker(location = [each[1]['Y'],each[1]['X']]))\n",
    "# Basically we have a marker for each crime happened in SF\n",
    "map.add_child(fg)\n",
    "map"
   ]
  },
  {
   "cell_type": "markdown",
   "metadata": {},
   "source": [
    "**Folium** works with _json_ geolocation files instead of shapefiles.\n",
    "\n",
    "Not a big deal, but sometimes if you need a particular map of some region you need to spend some time for either searching for geojson file someone has created or create one yourself by converting the shapefile into geojason files."
   ]
  },
  {
   "cell_type": "code",
   "execution_count": null,
   "metadata": {
    "collapsed": false,
    "scrolled": false
   },
   "outputs": [],
   "source": [
    "# No let's try to make a choropleth map based on the same crime data\n",
    "\n",
    "# definition of the boundaries in the map\n",
    "# You see how we use geojson file here\n",
    "district_geo = r'geo_json/sfpddistricts.geojson'\n",
    "\n",
    "# calculating total number of incidents per district\n",
    "crimedata2 = pd.DataFrame(crimedata['PdDistrict'].value_counts().astype(float))\n",
    "crimedata2 = crimedata2.reset_index()\n",
    "crimedata2.columns = ['District', 'Number']\n",
    " \n",
    "# creation of the choropleth\n",
    "map1 = folium.Map(location=SF_COORDINATES, zoom_start=12)\n",
    "map1.choropleth(geo_path = district_geo,  \n",
    "              data = crimedata2,\n",
    "              columns = ['District', 'Number'],\n",
    "              key_on = 'feature.properties.DISTRICT',\n",
    "              fill_color = 'YlOrRd', \n",
    "              fill_opacity = 0.7, \n",
    "              line_opacity = 0.2,\n",
    "              legend_name = 'Number of incidents per district')\n",
    "              \n",
    "map1"
   ]
  },
  {
   "cell_type": "markdown",
   "metadata": {},
   "source": [
    "Let's try another data and plot volcanoes on the map of the USA"
   ]
  },
  {
   "cell_type": "code",
   "execution_count": null,
   "metadata": {
    "collapsed": false
   },
   "outputs": [],
   "source": [
    "map2=folium.Map(location=[volcanoes['LAT'].mean(),volcanoes['LON'].mean()],zoom_start=6,tiles='Mapbox bright')\n",
    "\n",
    "# Small function which will help us to color markers\n",
    "def color(elev):\n",
    "    minimum=int(min(volcanoes['ELEV']))\n",
    "    step=int((max(volcanoes['ELEV'])-min(volcanoes['ELEV']))/3)\n",
    "    if elev in range(minimum,minimum+step):\n",
    "        col='green'\n",
    "    elif elev in range(minimum+step,minimum+step*2):\n",
    "        col='orange'\n",
    "    else:\n",
    "        col='red'\n",
    "    return col\n",
    "\n",
    "fg=folium.FeatureGroup(name=\"Volcano Locations\")\n",
    "# Here we are creating all markers that correspond to data\n",
    "for lat,lon,name,elev in zip(volcanoes['LAT'],volcanoes['LON'],volcanoes['NAME'],volcanoes['ELEV']):\n",
    "    fg.add_child(folium.Marker(location=[lat,lon],\n",
    "                               popup=(folium.Popup(name)),\n",
    "                               icon=folium.Icon(color=color(elev),\n",
    "                                                icon_color='green')))\n",
    "map2.add_child(fg)\n",
    "# With the following code notice how we use lambda function to additionally color the markers\n",
    "map2.add_child(folium.GeoJson(data=open('geo_json/world_geojson_from_ogr.json'),\n",
    "               name=\"Population\",\n",
    "               style_function=lambda x: {'fillColor':'green' if x['properties']['POP2005'] <= 10000000 else 'orange' \\\n",
    "                          if 10000000 < x['properties']['POP2005'] < 20000000 else 'red'}))\n",
    "map2.add_child(folium.LayerControl())\n",
    "map2"
   ]
  },
  {
   "cell_type": "markdown",
   "metadata": {},
   "source": [
    "**Folium** also allows us to plot different types of maps"
   ]
  },
  {
   "cell_type": "code",
   "execution_count": null,
   "metadata": {
    "collapsed": false
   },
   "outputs": [],
   "source": [
    "waypoints = folium.Map(location=[46.8527, -121.7649], tiles='Stamen Terrain',\n",
    "                       zoom_start=13)\n",
    "folium.Marker([46.8354, -121.7325], popup='Camp Muir').add_to(waypoints)\n",
    "folium.ClickForMarker().add_to(waypoints)\n",
    "waypoints"
   ]
  },
  {
   "cell_type": "markdown",
   "metadata": {},
   "source": [
    "We have already made choropleth maps before.\n",
    "\n",
    "Let's do couple of them again but on the different type of map"
   ]
  },
  {
   "cell_type": "code",
   "execution_count": null,
   "metadata": {
    "collapsed": false
   },
   "outputs": [],
   "source": [
    "# Again we are using a different geojson file\n",
    "state_geo = r'geo_json/us-states.json'\n",
    "\n",
    "# Let Folium determine the scale\n",
    "states = folium.Map(location=[48, -102], zoom_start=3)\n",
    "states.choropleth(geo_path=state_geo, data=state_data,\n",
    "                columns=['State', 'Unemployment'],\n",
    "                key_on='feature.id',\n",
    "                fill_color='YlGn', fill_opacity=0.7, line_opacity=0.2,\n",
    "                legend_name='Unemployment Rate (%)')\n",
    "\n",
    "states"
   ]
  },
  {
   "cell_type": "markdown",
   "metadata": {
    "collapsed": false
   },
   "source": [
    "To summarize, **folium** looks very nice visually. And if you have a lot of different geojson files at hand, you can really draw a lot of beuatiful maps with it.\n",
    "\n",
    "As downside, I would say that maintenance of this library is not 100% super good. You can face some warnings or errors while you work with it which are actually rather difficult to resolve, also some functionality is deprecated.\n",
    "\n",
    "Additionally **folium** has an \"OK\" documentation but you need to build that locally as I mentioned to be able to use it.\n",
    "\n",
    "Anyways, it can be another useful tool at hands for geo plotting in Python"
   ]
  },
  {
   "cell_type": "markdown",
   "metadata": {
    "collapsed": true
   },
   "source": [
    "Resources:  \n",
    "\n",
    "* [\"Folium website\"](https://folium.readthedocs.io/en/latest/)\n",
    "* [\"Folium on GitHub\"](https://github.com/python-visualization/folium)"
   ]
  },
  {
   "cell_type": "code",
   "execution_count": null,
   "metadata": {
    "collapsed": true
   },
   "outputs": [],
   "source": []
  }
 ],
 "metadata": {
  "kernelspec": {
   "display_name": "Python 3",
   "language": "python",
   "name": "python3"
  },
  "language_info": {
   "codemirror_mode": {
    "name": "ipython",
    "version": 3
   },
   "file_extension": ".py",
   "mimetype": "text/x-python",
   "name": "python",
   "nbconvert_exporter": "python",
   "pygments_lexer": "ipython3",
   "version": "3.5.1"
  }
 },
 "nbformat": 4,
 "nbformat_minor": 0
}
