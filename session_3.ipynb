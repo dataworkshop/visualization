{
 "cells": [
  {
   "cell_type": "markdown",
   "metadata": {},
   "source": [
    "# Geo plotting in Python using Basemap"
   ]
  },
  {
   "cell_type": "markdown",
   "metadata": {},
   "source": [
    "This notebook is a short introduction to geo plotting in Python using **Basemap** library"
   ]
  },
  {
   "cell_type": "code",
   "execution_count": null,
   "metadata": {
    "collapsed": true
   },
   "outputs": [],
   "source": [
    "# Let's import neccessary libraries\n",
    "from mpl_toolkits.basemap import Basemap\n",
    "import matplotlib.pyplot as plt\n",
    "from mpl_toolkits.axes_grid1.inset_locator import zoomed_inset_axes\n",
    "from mpl_toolkits.axes_grid1.inset_locator import mark_inset\n",
    "from matplotlib.colors import rgb2hex\n",
    "from matplotlib.colors import Normalize, PowerNorm\n",
    "from matplotlib.patches import Polygon\n",
    "from pylab import rcParams\n",
    "%matplotlib inline\n",
    "plt.style.use('ggplot')\n",
    "# Sets figure size for all plots in notebook\n",
    "rcParams['figure.figsize'] = 12, 12\n",
    "\n",
    "# Additional libraries which will be using\n",
    "import pandas as pd\n",
    "import numpy as np\n",
    "\n",
    "# Loading datasets which will be used later and make some preprocessing of them right away\n",
    "# Loading global terrorism dataset\n",
    "df = pd.read_csv(\"input/gtd_cleaned.csv\", encoding='iso-8859-1')\n",
    "# Creating separate dataframe where regions are joined into continents\n",
    "df_north_america = df[df['region_txt'] == 'North America']\n",
    "# Loading H2 visas dataset\n",
    "h2_FY2011_FY2016 = pd.read_csv(\"input/h2-data.csv\", encoding='iso-8859-1', low_memory=False)\n",
    "# Extracting data for each and every state in the dataset\n",
    "states_total = h2_FY2011_FY2016['employer_state'].value_counts().to_dict()"
   ]
  },
  {
   "cell_type": "markdown",
   "metadata": {},
   "source": [
    "It is useful to remember that like **matplotlib** we have layers structure in **Basemap**.   \n",
    "Those layers can be different, for example, coastlines or rivers. Let's plot a simplest map."
   ]
  },
  {
   "cell_type": "code",
   "execution_count": null,
   "metadata": {
    "collapsed": false
   },
   "outputs": [],
   "source": [
    "# The map is created using the Basemap class, which has many options. \n",
    "map = Basemap()\n",
    "\n",
    "# And Basemap has many basic methods that help us to draw maps\n",
    "# The following draws the coastlines or borders of all continents\n",
    "map.drawcoastlines()\n",
    "\n",
    "plt.show()"
   ]
  },
  {
   "cell_type": "markdown",
   "metadata": {},
   "source": [
    "When we talk about _Basemap_ class, one of the most important options is projection which is a **is a transformation of the latitudes and longitudes of locations on the surface of a sphere or an ellipsoid into locations on a plane**\n",
    "\n",
    "**Basemap** offers a large amount of available projections which can be found in docs.\n",
    "\n",
    "Every projection available requires other special parameters to be define.\n",
    "Let's plot some projections"
   ]
  },
  {
   "cell_type": "code",
   "execution_count": null,
   "metadata": {
    "collapsed": false
   },
   "outputs": [],
   "source": [
    "# The map is created using the Basemap class, which has many options. \n",
    "# I usually use Mercator projection\n",
    "map = Basemap(projection='merc',llcrnrlat=-80,urcrnrlat=80,\\\n",
    "            llcrnrlon=-180,urcrnrlon=180,lat_ts=20,resolution='c')\n",
    "\n",
    "# Using Mercator projection we need to define region of the projection otherwise it will look strange\n",
    "# llcrnrlon - longitude of lower left hand corner of the desired map domain (degrees).\n",
    "# llcrnrlat - latitude of lower left hand corner of the desired map domain (degrees).\n",
    "# urcrnrlon - longitude of upper right hand corner of the desired map domain (degrees).\n",
    "# urcrnrlat - latitude of upper right hand corner of the desired map domain (degrees).\n",
    "\n",
    "# TRY TO PLOT THIS WITHOUT SPECIFYING A REGION!\n",
    "\n",
    "# And Basemap has many basic methods that help us to draw maps\n",
    "# The following draws the coastlines or borders of all continents\n",
    "map.drawcoastlines()\n",
    "\n",
    "plt.show()"
   ]
  },
  {
   "cell_type": "code",
   "execution_count": null,
   "metadata": {
    "collapsed": false
   },
   "outputs": [],
   "source": [
    "# The map is created using the Basemap class, which has many options. \n",
    "# I also like Robinson projection\n",
    "map = Basemap(projection='robin', lon_0=0, resolution='c')\n",
    "\n",
    "# For Robin projection we must say what lon_0 parameter will be\n",
    "# lon_0 - central meridian (x-axis origin) - used by all projections. In other words it moves the map to the right or left\n",
    "\n",
    "# TRY TO CHANGE THE VALUE FOR lon_0!\n",
    "\n",
    "# And Basemap has many basic methods that help us to draw maps\n",
    "# The following draws the coastlines or borders of all continents\n",
    "map.drawcoastlines()\n",
    "\n",
    "plt.show()"
   ]
  },
  {
   "cell_type": "markdown",
   "metadata": {},
   "source": [
    "There are many projections, please consult the documentation. Some of them are funny looking."
   ]
  },
  {
   "cell_type": "code",
   "execution_count": null,
   "metadata": {
    "collapsed": false
   },
   "outputs": [],
   "source": [
    "# The map is created using the Basemap class, which has many options. \n",
    "# Sinusoidal projection\n",
    "map = Basemap(projection='sinu',lon_0=0,resolution='c')\n",
    "\n",
    "# And Basemap has many basic methods that help us to draw maps\n",
    "# The following draws the coastlines or borders of all continents\n",
    "map.drawcoastlines()\n",
    "\n",
    "plt.show()"
   ]
  },
  {
   "cell_type": "markdown",
   "metadata": {},
   "source": [
    "The map still looks a bit poor. Let's bring some colors"
   ]
  },
  {
   "cell_type": "code",
   "execution_count": null,
   "metadata": {
    "collapsed": false
   },
   "outputs": [],
   "source": [
    "map = Basemap(projection='robin', lon_0=0, resolution='c')\n",
    "\n",
    "# Another method of Basemap class helps us to color the ocean\n",
    "#Fill the globe with a blue color \n",
    "map.drawmapboundary(fill_color='aqua')\n",
    "#Fill the continents with the land color\n",
    "map.fillcontinents(color='coral',lake_color='aqua')\n",
    "\n",
    "map.drawcoastlines()\n",
    "\n",
    "plt.show()"
   ]
  },
  {
   "cell_type": "markdown",
   "metadata": {},
   "source": [
    "What if we do not need the whole world but just one particular region.  \n",
    "As for now we do not have countries borders, let's focus on something very visible. For example, Italy.\n",
    "\n",
    "Drawing only a region can be done either by passing a bounding box or the center of the map and the map size."
   ]
  },
  {
   "cell_type": "code",
   "execution_count": null,
   "metadata": {
    "collapsed": false
   },
   "outputs": [],
   "source": [
    "map = Basemap(llcrnrlon=5.,llcrnrlat=35,urcrnrlon=22.,urcrnrlat=45,\n",
    "             resolution='i', projection='tmerc', lat_0 = 0, lon_0 = -0)\n",
    "\n",
    "# Important! This method may not work with all projections!\n",
    "# Reason: The lower-left and upper-right corners are past as parameters, in longitude-latitude units, not in map units. \n",
    "\n",
    "# USING MAP BELOW TRY TO DRAW SOME PARTICULAR REGION FROM THE GOLBE MAP!\n",
    "\n",
    "# Another method of Basemap class helps us to color the ocean\n",
    "#Fill the globe with a blue color \n",
    "map.drawmapboundary(fill_color='aqua')\n",
    "#Fill the continents with the land color\n",
    "map.fillcontinents(color='coral',lake_color='aqua')\n",
    "\n",
    "map.drawcoastlines()\n",
    "\n",
    "plt.show()"
   ]
  },
  {
   "cell_type": "markdown",
   "metadata": {},
   "source": [
    "How to define what longitude and latitude figures to use?\n",
    "\n",
    "I usually use this map:  \n",
    "\n",
    "![\"Latitudes and longitudes map\"](input/Sistema_Cartografico_Nacional.jpg)\n",
    "\n",
    "But you can find many others and better ones, just google it."
   ]
  },
  {
   "cell_type": "markdown",
   "metadata": {},
   "source": [
    "Let's now try to pass bounding box coordinates in map units"
   ]
  },
  {
   "cell_type": "code",
   "execution_count": null,
   "metadata": {
    "collapsed": false
   },
   "outputs": [],
   "source": [
    "map = Basemap(resolution='l', \n",
    "              satellite_height=3000000.,\n",
    "              projection='nsper', \n",
    "              lat_0 = 30., lon_0 = -27.,\n",
    "              llcrnrx=500000.,llcrnry=500000.,urcrnrx=2700000.,urcrnry=2700000.\n",
    "             )\n",
    "\n",
    "# Parameters explanation:\n",
    "# llcrnrx - x value of lower left hand corner of the selected map domain in map projection coordinates.\n",
    "# llcrnry - y value of lower left hand corner of the selected map domain in map projection coordinates.\n",
    "# urcrnrx - x value of upper right hand corner of the selected map domain in map projection coordinates.\n",
    "# urcrnry - y value of upper right hand corner of the selected map domain in map projection coordinates.\n",
    "\n",
    "# Another method of Basemap class helps us to color the ocean\n",
    "#Fill the globe with a blue color \n",
    "map.drawmapboundary(fill_color='aqua')\n",
    "#Fill the continents with the land color\n",
    "map.fillcontinents(color='coral',lake_color='aqua')\n",
    "\n",
    "map.drawcoastlines()\n",
    "\n",
    "plt.show()"
   ]
  },
  {
   "cell_type": "markdown",
   "metadata": {},
   "source": [
    "Another way to draw particular region on the map is to use center, width and height parameters\n",
    "\n",
    "Also works not for every projection, not every projection can take width and height"
   ]
  },
  {
   "cell_type": "code",
   "execution_count": null,
   "metadata": {
    "collapsed": false
   },
   "outputs": [],
   "source": [
    "map = Basemap(projection='aeqd',\n",
    "              lon_0 = 15,\n",
    "              lat_0 = 40,\n",
    "              width = 1800000,\n",
    "              height = 1400000)\n",
    "\n",
    "# The center is easy, just pass it in longitude-latitude.\n",
    "# The units are the projection units in meters. \n",
    "# The point (0, 0) is the lower left corner, and the point (width, height) is the upper right.\n",
    "\n",
    "# USING THE PICTURE ABOVE (WITH LONGS AND LATS) ON THIS SAME PROJECTION TRY TO DRAW SPAIN OR ANY OTHER REGION YOU LIKE\n",
    "\n",
    "# Another method of Basemap class helps us to color the ocean\n",
    "#Fill the globe with a blue color \n",
    "map.drawmapboundary(fill_color='aqua')\n",
    "#Fill the continents with the land color\n",
    "map.fillcontinents(color='coral',lake_color='aqua')\n",
    "\n",
    "map.drawcoastlines()\n",
    "\n",
    "plt.show()"
   ]
  },
  {
   "cell_type": "markdown",
   "metadata": {},
   "source": [
    "Usually map itself is useless for us\n",
    "\n",
    "We want to plot data on it!\n",
    "\n",
    "Because **Basemap** works perfectly with **matplotlib** we can plot data on the map using **matploltib** methods we already know"
   ]
  },
  {
   "cell_type": "code",
   "execution_count": null,
   "metadata": {
    "collapsed": false
   },
   "outputs": [],
   "source": [
    "# Use the Basemap instance to calculate the position of the point in the map coordinates \n",
    "# when you have the longitude and latitude of the point\n",
    "map = Basemap(projection='ortho', \n",
    "              lat_0=0, lon_0=0)\n",
    "\n",
    "# Another method of Basemap class helps us to color the ocean\n",
    "#Fill the globe with a blue color \n",
    "map.drawmapboundary(fill_color='aqua')\n",
    "#Fill the continents with the land color\n",
    "map.fillcontinents(color='coral',lake_color='aqua')\n",
    "\n",
    "x, y = map(0, 0)\n",
    "\n",
    "map.plot(x, y, marker='D',color='m')\n",
    "\n",
    "plt.show()"
   ]
  },
  {
   "cell_type": "code",
   "execution_count": null,
   "metadata": {
    "collapsed": false
   },
   "outputs": [],
   "source": [
    "# Use the Basemap instance to calculate the position of the point in the map coordinates \n",
    "# when you have the longitude and latitude of the point\n",
    "map = Basemap(projection='ortho', \n",
    "              lat_0=0, lon_0=0)\n",
    "\n",
    "# Another method of Basemap class helps us to color the ocean\n",
    "#Fill the globe with a blue color \n",
    "map.drawmapboundary(fill_color='aqua')\n",
    "#Fill the continents with the land color\n",
    "map.fillcontinents(color='coral',lake_color='aqua')\n",
    "\n",
    "lons = [0, 10, -20, -20]\n",
    "lats = [0, -10, 40, -20]\n",
    "\n",
    "x, y = map(lons, lats)\n",
    "\n",
    "map.scatter(x, y, marker='D',color='m')\n",
    "\n",
    "plt.show()"
   ]
  },
  {
   "cell_type": "markdown",
   "metadata": {},
   "source": [
    "Some \"real-life\" examples of plotting real data on the map"
   ]
  },
  {
   "cell_type": "code",
   "execution_count": null,
   "metadata": {
    "collapsed": false
   },
   "outputs": [],
   "source": [
    "# Let's create a function which will plot on a World map\n",
    "# Thus we will save some coding space below\n",
    "\n",
    "def plot_on_world_map(df, title, c=\"#e74c3c\", s=10, cmap=\"magma\", projection='robin', resolution='i'):\n",
    "    m = Basemap(\n",
    "        projection=projection, \n",
    "        llcrnrlat=-60, \n",
    "        urcrnrlat=80, \n",
    "        llcrnrlon=-180, \n",
    "        urcrnrlon=180,\n",
    "        resolution=resolution,\n",
    "        lon_0=0\n",
    "    )\n",
    "\n",
    "    plt.figure(figsize=(16,12))\n",
    "    m.fillcontinents(color='#f7f7f7',lake_color='#99c9ff')\n",
    "    m.drawmapboundary(color=\"#ffffff\", fill_color='#ffffff')\n",
    "    m.drawcoastlines(color='#934c93', linewidth=.15)\n",
    "    m.drawrivers(color='#c2d2ec', linewidth=.15)\n",
    "\n",
    "    longitudes = df[\"longitude\"].tolist()\n",
    "    latitudes = df[\"latitude\"].tolist()\n",
    "    x,y = m(longitudes, latitudes)\n",
    "    m.scatter(x, y, zorder=2, c=c, s=s, cmap=cmap)\n",
    "    plt.title(title)\n",
    "    plt.show()\n",
    "    \n",
    "plot_on_world_map(df, 'All terror incidents on the World map')"
   ]
  },
  {
   "cell_type": "markdown",
   "metadata": {},
   "source": [
    "An example of drawing the particular region and plotting data on it.\n",
    "Note that the function below is a synergy between **Basemap** and **matplotlib**"
   ]
  },
  {
   "cell_type": "code",
   "execution_count": null,
   "metadata": {
    "collapsed": false
   },
   "outputs": [],
   "source": [
    "# Simple function which will help us to easily plot data on the world map\n",
    "def plot_on_continent(df, title, c=\"blue\", llcrnrlat=-60, urcrnrlat=80, llcrnrlon=-180, urcrnrlon=180, \n",
    "                      s=20, cmap=\"magma\", projection='merc', resolution='i'):\n",
    "    m = Basemap(\n",
    "        projection=projection, \n",
    "        llcrnrlat=llcrnrlat, \n",
    "        urcrnrlat=urcrnrlat, \n",
    "        llcrnrlon=llcrnrlon, \n",
    "        urcrnrlon=urcrnrlon,\n",
    "        resolution=resolution\n",
    "    )\n",
    "\n",
    "    plt.figure(figsize=(14,14))\n",
    "    m.fillcontinents(color='#f7f7f7',lake_color='#99c9ff')\n",
    "    m.drawmapboundary(fill_color='#ffffff')\n",
    "    m.drawcoastlines(color='#934c93', linewidth=.15)\n",
    "    m.drawrivers(color='#c2d2ec', linewidth=.15)\n",
    "\n",
    "    longitudes = df[\"longitude\"].tolist()\n",
    "    latitudes = df[\"latitude\"].tolist()\n",
    "    x,y = m(longitudes, latitudes)\n",
    "    m.scatter(x, y, zorder=2, c=c, s=s, cmap=cmap)\n",
    "    plt.title(title)\n",
    "    plt.show()\n",
    "    \n",
    "# I have predifined the coordinates of North America to make life a bit easier    \n",
    "coords = {'North America': {'llcrnrlat': 5.5, 'urcrnrlat': 63.2, 'llcrnrlon': -180, 'urcrnrlon': -48}}\n",
    "\n",
    "plot_on_continent(df_north_america, \"All terror incidents in North America: Number of victims killed\", \n",
    "                  s=df_north_america['nkill'], \n",
    "                  **coords['North America'], cmap='winter')\n",
    "plot_on_continent(df_north_america, \"All terror incidents in North America: Number of victims wounded\", \n",
    "                  s=df_north_america['nwound'], \n",
    "                  **coords['North America'], cmap='winter')"
   ]
  },
  {
   "cell_type": "markdown",
   "metadata": {},
   "source": [
    "There are other types of plotting possible. Consult the documentation and make experiments!"
   ]
  },
  {
   "cell_type": "markdown",
   "metadata": {},
   "source": [
    "Up to this moment maps we were plotting they were a bit schematic, more like contours of a map not a world map we are used to.\n",
    "\n",
    "Let's give our maps the breath of life."
   ]
  },
  {
   "cell_type": "markdown",
   "metadata": {},
   "source": [
    "We are already familiar with _drawcoastline_ method. Let's explore some more"
   ]
  },
  {
   "cell_type": "code",
   "execution_count": null,
   "metadata": {
    "collapsed": false
   },
   "outputs": [],
   "source": [
    "# Use the Basemap instance to calculate the position of the point in the map coordinates \n",
    "# when you have the longitude and latitude of the point\n",
    "map = Basemap(projection='ortho', lat_0=0, lon_0=0)\n",
    "\n",
    "# Another method of Basemap class helps us to color the ocean\n",
    "#Fill the globe with a blue color \n",
    "map.drawmapboundary(fill_color='aqua')\n",
    "#Fill the continents with the land color\n",
    "map.fillcontinents(color='coral',lake_color='aqua')\n",
    "\n",
    "# Drawing borders of countries\n",
    "map.drawcountries()\n",
    "\n",
    "plt.show()"
   ]
  },
  {
   "cell_type": "code",
   "execution_count": null,
   "metadata": {
    "collapsed": false
   },
   "outputs": [],
   "source": [
    "# Use the Basemap instance to calculate the position of the point in the map coordinates \n",
    "# when you have the longitude and latitude of the point\n",
    "map = Basemap(projection='ortho', lat_0=0, lon_0=0)\n",
    "\n",
    "# Another method of Basemap class helps us to color the ocean\n",
    "#Fill the globe with a blue color \n",
    "map.drawmapboundary(fill_color='aqua')\n",
    "#Fill the continents with the land color\n",
    "map.fillcontinents(color='coral',lake_color='aqua')\n",
    "\n",
    "# Drawing borders of countries\n",
    "map.drawcountries()\n",
    "# Rivers and lakes can be drawn with this method\n",
    "map.drawrivers(color='#7777ff')\n",
    "\n",
    "plt.show()"
   ]
  },
  {
   "cell_type": "code",
   "execution_count": null,
   "metadata": {
    "collapsed": false
   },
   "outputs": [],
   "source": [
    "# We might want to see more water on our map, we can do that with drawlsmask method\n",
    "# which avoids filling countinents and coastline borders\n",
    "map = Basemap(projection='ortho', \n",
    "              lat_0=0, lon_0=0)\n",
    "\n",
    "map.drawlsmask(land_color = \"#ddaa66\", \n",
    "               ocean_color=\"#7777ff\",\n",
    "               resolution = 'l')\n",
    "\n",
    "plt.show()"
   ]
  },
  {
   "cell_type": "code",
   "execution_count": null,
   "metadata": {
    "collapsed": false
   },
   "outputs": [],
   "source": [
    "# We can combine the previous one with drawing rivers to have a full \"water world\"\n",
    "map = Basemap(projection='ortho', \n",
    "              lat_0=0, lon_0=0)\n",
    "\n",
    "map.drawlsmask(land_color = \"#ddaa66\", \n",
    "               ocean_color=\"#7777ff\",\n",
    "               resolution = 'l')\n",
    "map.drawrivers(color='#7777ff')\n",
    "\n",
    "plt.show()"
   ]
  },
  {
   "cell_type": "markdown",
   "metadata": {},
   "source": [
    "There are other interesting methods of working with borders and backgrounds. I encourage you to read the docs and experiment!"
   ]
  },
  {
   "cell_type": "markdown",
   "metadata": {},
   "source": [
    "In **Basemap** like in **matploltib** you can of course plot many maps on one figure\n",
    "\n",
    "Very simple example:"
   ]
  },
  {
   "cell_type": "code",
   "execution_count": null,
   "metadata": {
    "collapsed": false
   },
   "outputs": [],
   "source": [
    "fig = plt.figure()\n",
    "\n",
    "ax = fig.add_subplot(211)\n",
    "ax.set_title(\"Hammer projection\")\n",
    "map = Basemap(projection='hammer', lon_0 = 10, lat_0 = 50)\n",
    "\n",
    "map.drawmapboundary(fill_color='aqua')\n",
    "map.fillcontinents(color='coral',lake_color='aqua')\n",
    "map.drawcoastlines()\n",
    "\n",
    "ax = fig.add_subplot(212)\n",
    "ax.set_title(\"Robinson projection\")\n",
    "map = Basemap(projection='robin', lon_0 = 10, lat_0 = 50)\n",
    "\n",
    "map.drawmapboundary(fill_color='aqua')\n",
    "map.fillcontinents(color='coral',lake_color='aqua')\n",
    "map.drawcoastlines()\n",
    "\n",
    "plt.show()"
   ]
  },
  {
   "cell_type": "markdown",
   "metadata": {},
   "source": [
    "What is more interesting is that with **Basemap** you can zoom some region on the map and draw it on the same plot and you can combine it with \"classical\" **matplotlib** plotting tools.\n",
    "\n",
    "The next example is a bit complicated but it is commented so you can figure out what code is doing what"
   ]
  },
  {
   "cell_type": "code",
   "execution_count": null,
   "metadata": {
    "collapsed": false
   },
   "outputs": [],
   "source": [
    "fig = plt.figure(figsize=(16,16))\n",
    "ax = fig.add_subplot(111)\n",
    "\n",
    "map = Basemap(projection='cyl', \n",
    "              lat_0=0, lon_0=0)\n",
    "\n",
    "map.drawmapboundary(fill_color='#7777ff')\n",
    "map.fillcontinents(color='#ddaa66', lake_color='#7777ff', zorder=0)\n",
    "map.drawcoastlines()\n",
    "\n",
    "lons = np.array([-13.7, -10.8, -13.2, -96.8, -7.99, 7.5, -17.3, -3.7])\n",
    "lats = np.array([9.6, 6.3, 8.5, 32.7, 12.5, 8.9, 14.7, 40.39])\n",
    "cases = np.array([1971, 7069, 6073, 4, 6, 20, 1, 1])\n",
    "deaths = np.array([1192, 2964, 1250, 1, 5, 8, 0, 0])\n",
    "places = np.array(['Guinea', 'Liberia', 'Sierra Leone','United States', 'Mali', 'Nigeria', 'Senegal', 'Spain'])\n",
    "\n",
    "x, y = map(lons, lats)\n",
    "\n",
    "map.scatter(x, y, s=cases, c='r', alpha=0.5)\n",
    "\n",
    "axins = zoomed_inset_axes(ax, 7, loc=1)\n",
    "axins.set_xlim(-20, 0)\n",
    "axins.set_ylim(3, 18)\n",
    "\n",
    "plt.xticks(visible=False)\n",
    "plt.yticks(visible=False)\n",
    "\n",
    "map2 = Basemap(llcrnrlon=-20,llcrnrlat=3,urcrnrlon=0,urcrnrlat=18, ax=axins)\n",
    "map2.drawmapboundary(fill_color='#7777ff')\n",
    "map2.fillcontinents(color='#ddaa66', lake_color='#7777ff', zorder=0)\n",
    "map2.drawcoastlines()\n",
    "map2.drawcountries()\n",
    "\n",
    "map2.scatter(x, y, s=cases/5., c='r', alpha=0.5)\n",
    "\n",
    "mark_inset(ax, axins, loc1=2, loc2=4, fc=\"none\", ec=\"0.5\")\n",
    "\n",
    "plt.show()"
   ]
  },
  {
   "cell_type": "markdown",
   "metadata": {},
   "source": [
    "The last topic I want to cover here is how **Basemap** works with shapefiles.\n",
    "\n",
    "What is shapefile?\n",
    "\n",
    "Shapefile is popular geospatial vector data format for geographic information system (GIS) software.\n",
    "There are many sources for such shapefiles, one of the popular ones is [\"ArcGIS\"](https://www.arcgis.com/features/index.html)\n",
    "\n",
    "Basically shapefiles provide you with vector map data which you can the use to draw chronopleth maps. \n",
    "\n",
    "A choropleth map is a thematic map in which areas are shaded or patterned in proportion to the measurement of the statistical variable being displayed on the map.  \n",
    "\n",
    "When working with shapefiles you often do not need longitude and latitude coordinates, you can use, for example, US states abbreviations.\n",
    "\n",
    "Real-life example is presented below"
   ]
  },
  {
   "cell_type": "code",
   "execution_count": null,
   "metadata": {
    "collapsed": false
   },
   "outputs": [],
   "source": [
    "plt.figure(figsize=(20,20), facecolor='white')\n",
    "# Lambert Conformal map of lower 48 states.\n",
    "m = Basemap(llcrnrlon=-125,llcrnrlat=22,urcrnrlon=-67,urcrnrlat=52,\n",
    "            projection='merc',lat_1=33,lat_2=45,lon_0=-95)\n",
    "# draw state boundaries.\n",
    "shp_info = m.readshapefile('shapefiles/states','states',drawbounds=True)\n",
    "# Use total cases per employer per state data -> states_total\n",
    "colors={}\n",
    "statenames=[]\n",
    "cmap = plt.cm.Oranges # use Oranges colormap. \n",
    "vmin = 1; vmax = 5518 # set range.\n",
    "# normalize our bins between the min and max values within the bins\n",
    "norm = PowerNorm(0.5, vmin=vmin, vmax=vmax)\n",
    "for shapedict in m.states_info:\n",
    "    statename = shapedict['STATE_ABBR']\n",
    "    app = states_total[statename]\n",
    "    # calling colormap with value between 0 and 1 returns\n",
    "    # rgba value.  Invert color range (hot colors are high\n",
    "    # population), take sqrt root to spread out colors more.\n",
    "    colors[statename] = cmap(norm(app))[:3]\n",
    "    statenames.append(statename)\n",
    "# cycle through state names, color each one.\n",
    "ax = plt.gca() # get current axes instance\n",
    "for nshape,seg in enumerate(m.states):\n",
    "    color = rgb2hex(colors[statenames[nshape]]) \n",
    "    poly = Polygon(seg,facecolor=color,edgecolor=color)\n",
    "    ax.add_patch(poly)\n",
    "plt.tight_layout()\n",
    "plt.title('Filling States by Total Number of H2 Applications')\n",
    "plt.show()"
   ]
  },
  {
   "cell_type": "markdown",
   "metadata": {},
   "source": [
    "This can be a good starting point for you to learn more about **Basemap**\n",
    "\n",
    "You can use the code above, change it, experiment with it.\n",
    "\n",
    "Useful links:  \n",
    "* [\"Basemap Documentation\"](http://matplotlib.org/basemap/index.html)\n",
    "* [\"Basemap Tutorial\"](https://basemaptutorial.readthedocs.io/en/latest/index.html)"
   ]
  },
  {
   "cell_type": "code",
   "execution_count": null,
   "metadata": {
    "collapsed": true
   },
   "outputs": [],
   "source": []
  }
 ],
 "metadata": {
  "kernelspec": {
   "display_name": "Python 3",
   "language": "python",
   "name": "python3"
  },
  "language_info": {
   "codemirror_mode": {
    "name": "ipython",
    "version": 3
   },
   "file_extension": ".py",
   "mimetype": "text/x-python",
   "name": "python",
   "nbconvert_exporter": "python",
   "pygments_lexer": "ipython3",
   "version": "3.5.1"
  }
 },
 "nbformat": 4,
 "nbformat_minor": 0
}
